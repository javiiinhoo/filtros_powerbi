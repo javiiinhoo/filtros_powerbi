{
 "cells": [
  {
   "cell_type": "code",
   "execution_count": 1,
   "metadata": {},
   "outputs": [],
   "source": [
    "import pandas as pd\n",
    "file_path = fr\"C:\\Users\\vidal\\OneDrive - Real Club Deportivo de La Coruña\\Manu\\Scout StreamLit\\Bruto_scout.xlsx\""
   ]
  },
  {
   "cell_type": "code",
   "execution_count": 2,
   "metadata": {},
   "outputs": [
    {
     "data": {
      "text/plain": [
       "['Lateral 2-3',\n",
       " 'Central 4-5',\n",
       " 'Pivote 6',\n",
       " 'Box to Box 8',\n",
       " 'M. Punta 10',\n",
       " 'Banda 7-11',\n",
       " 'Punta 9',\n",
       " ' Calendario',\n",
       " 'Jugadores',\n",
       " 'Fechas',\n",
       " 'Cedidos']"
      ]
     },
     "execution_count": 2,
     "metadata": {},
     "output_type": "execute_result"
    }
   ],
   "source": [
    "excel_file = pd.ExcelFile(file_path)\n",
    "sheet_names = excel_file.sheet_names\n",
    "sheet_names"
   ]
  },
  {
   "cell_type": "code",
   "execution_count": 3,
   "metadata": {},
   "outputs": [],
   "source": [
    "# Leer las primeras siete hojas\n",
    "dfs = [excel_file.parse(sheet_name) for sheet_name in excel_file.sheet_names[:7]]\n",
    "\n",
    "# Concatenar las hojas\n",
    "df = pd.concat(dfs, ignore_index=True)\n",
    "\n",
    "# Guardar en un nuevo archivo Excel\n",
    "df.to_excel('archivo_combinado.xlsx', index=False)\n"
   ]
  },
  {
   "cell_type": "code",
   "execution_count": 4,
   "metadata": {},
   "outputs": [],
   "source": [
    "df = df.dropna(subset=['ID'])\n",
    "columns_to_drop = ['INFORME', 'NOMBRE 2', 'COMENTARIO']\n",
    "df = df.drop(columns=[col for col in columns_to_drop if col in df.columns])\n",
    "df['COMENTARIOS_UNIFICADOS'] = df.apply(\n",
    "    lambda row: f\"Comentario por {row['USUARIO']} en partido J {row['JORNADA']} {row['PARTIDO']}: {row['COMENTARIO TEXTO']}\",\n",
    "    axis=1\n",
    ")\n"
   ]
  },
  {
   "cell_type": "code",
   "execution_count": 5,
   "metadata": {},
   "outputs": [],
   "source": [
    "df_grouped = df.groupby('ID').agg({\n",
    "    'COMENTARIOS_UNIFICADOS': lambda x: ' % '.join(x.astype(str)),  # Asegurar que sean strings\n",
    "    'EQUIPO': 'first',\n",
    "    'NOMBRE JUGADOR': lambda x: x.mode().iloc[0] if not x.mode().empty else 'Desconocido',  # Si no hay modo, usar 'Desconocido'\n",
    "    'LIGA': 'last',\n",
    "    'PIE FAVORABLE': lambda x: x.mode().iloc[0] if not x.mode().empty else 'Desconocido',\n",
    "    'PERFIL': lambda x: x.mode().iloc[0] if not x.mode().empty else 'Desconocido',\n",
    "    'ACTUACION': lambda x: ' % '.join(x.astype(str)),  # Unificar por string\n",
    "    'VALORACION': lambda x: ' % '.join(x.astype(str)),\n",
    "    'POSICION_POWERBI': 'first',\n",
    "    # 4. Calcular medias para columnas numéricas\n",
    "    'VELOCIDAD': 'mean',\n",
    "    'COMPLEXIÓN': 'mean',\n",
    "    'POTENCIA': 'mean',\n",
    "    'DUELOS DEFENSIVOS': 'mean',\n",
    "    'TÁCTICA DEFENSIVA': 'mean',\n",
    "    '1x1': 'mean',\n",
    "    'JUEGO AÉREO DEF.': 'mean',\n",
    "    'MARCAJE EN ÁREA': 'mean',\n",
    "    'CAPACIDAD DE JUEGO': 'mean',\n",
    "    'CAPACIDAD OFENSIVA': 'mean',\n",
    "    'CALIDAD OFENSIVA': 'mean',\n",
    "    'SAQUE DE BANDA': 'mean',\n",
    "    'JUEGO AÉREO OF.': 'mean',\n",
    "    'NOTA AJUSTADA': 'mean',\n",
    "    'NOTA': 'mean',\n",
    "    'VALORACION AJUSTADA OFENSIVA': 'mean',\n",
    "    'VALORACION OFENSIVA': 'mean',\n",
    "    'VALORACION AJUSTADA DEFENSIVA': 'mean',\n",
    "    'VALORACION DEFENSIVA': 'mean',\n",
    "    'MARCAJES EN ÁREA': 'mean',\n",
    "    'COMUNICACIÓN': 'mean',\n",
    "    'CALIDAD DE JUEGO': 'mean',\n",
    "    'LECTURA DEFENSIVA': 'mean',\n",
    "    'TOMA DE DECISIONES': 'mean',\n",
    "    'CALIDAD DE JUEGO CORTO': 'mean',\n",
    "    'CALIDAD DE JUEGO LARGO': 'mean',\n",
    "    'CAPACIDAD DE SACRIFICIO': 'mean',\n",
    "    'RUPTURA': 'mean',\n",
    "    'JUEGO DE ESPALDAS': 'mean'\n",
    "}).reset_index()"
   ]
  },
  {
   "cell_type": "code",
   "execution_count": 6,
   "metadata": {},
   "outputs": [],
   "source": [
    "df_grouped.to_excel('dataset_for_streamlit.xlsx')"
   ]
  },
  {
   "cell_type": "code",
   "execution_count": null,
   "metadata": {},
   "outputs": [],
   "source": []
  }
 ],
 "metadata": {
  "kernelspec": {
   "display_name": "base",
   "language": "python",
   "name": "python3"
  },
  "language_info": {
   "codemirror_mode": {
    "name": "ipython",
    "version": 3
   },
   "file_extension": ".py",
   "mimetype": "text/x-python",
   "name": "python",
   "nbconvert_exporter": "python",
   "pygments_lexer": "ipython3",
   "version": "3.11.5"
  }
 },
 "nbformat": 4,
 "nbformat_minor": 2
}
